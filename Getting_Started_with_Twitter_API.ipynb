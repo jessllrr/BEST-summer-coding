{
  "nbformat": 4,
  "nbformat_minor": 0,
  "metadata": {
    "colab": {
      "name": "Getting Started with Twitter API.ipynb",
      "provenance": [],
      "authorship_tag": "ABX9TyMNJVrH+y3Fn7uvoTe7Nt8z",
      "include_colab_link": true
    },
    "kernelspec": {
      "name": "python3",
      "display_name": "Python 3"
    }
  },
  "cells": [
    {
      "cell_type": "markdown",
      "metadata": {
        "id": "view-in-github",
        "colab_type": "text"
      },
      "source": [
        "<a href=\"https://colab.research.google.com/github/jessllrr/BEST-summer-coding/blob/master/Getting_Started_with_Twitter_API.ipynb\" target=\"_parent\"><img src=\"https://colab.research.google.com/assets/colab-badge.svg\" alt=\"Open In Colab\"/></a>"
      ]
    },
    {
      "cell_type": "markdown",
      "metadata": {
        "id": "ePaiyreBTTTJ",
        "colab_type": "text"
      },
      "source": [
        "# Introduction\n",
        "\n",
        "Creating a Twitter bot requires the use of the Twitter API. For developers to create Twitter bots for their apps or scripts, they need to apply for a Twitter Developer Account. From there, there are several tools and APIs developers can access. For our purposes, we will need the Twitter Standard API. With the Twitter Standard API, you can...\n",
        "- Post, retrieve, and engage with tweets and timelines\n",
        "- Post and receive direct messages\n",
        "- Manage and pull public account information\n",
        "- Create and manage lists\n",
        "- Follow, search, and get users\n",
        "- Retrieve trends \n",
        "\n",
        "*Pulled from the [Twitter Developer Guide: Getting Started](https://developer.twitter.com/en/docs/basics/getting-started)*\n",
        "\n",
        "## Steps\n",
        "\n",
        "To successfully create a Twitter bot you will need to...\n",
        "1. Apply for a Twitter Developer Account and make sure the Twitter account (like the actual Twitter account) you link it to is one you are comfortable sending bot tweets from.\n",
        "2. Retrieve the **consumer key**, **consumer secret**, **access token**, and **access secret**. All this information is very sensitive and so it should be stored in a seperate file. Specifically a .txt file with each piece of information on its own line. \n"
      ]
    },
    {
      "cell_type": "code",
      "metadata": {
        "id": "D_8u550uY5cL",
        "colab_type": "code",
        "colab": {}
      },
      "source": [
        "# Create a text file (Notepad or similar apps can do this) with each piece of info on its own line\n",
        "\n",
        "consumer_key\n",
        "consumer_secret\n",
        "access_token\n",
        "access_secret"
      ],
      "execution_count": null,
      "outputs": []
    },
    {
      "cell_type": "markdown",
      "metadata": {
        "id": "TyFCEXpOZHQU",
        "colab_type": "text"
      },
      "source": [
        "3. Create a colab notebook, and upload the file to the notebook with the following script:"
      ]
    },
    {
      "cell_type": "code",
      "metadata": {
        "id": "PVlAHHPRW2FL",
        "colab_type": "code",
        "colab": {}
      },
      "source": [
        "from google.colab import files\n",
        "\n",
        "uploaded = files.upload()\n",
        "\n",
        "for fn in uploaded.keys():\n",
        "  print('User uploaded file \"{name}\" with length {length} bytes'.format(\n",
        "      name=fn, length=len(uploaded[fn])))"
      ],
      "execution_count": null,
      "outputs": []
    },
    {
      "cell_type": "markdown",
      "metadata": {
        "id": "_PeXcvSBZRBq",
        "colab_type": "text"
      },
      "source": [
        "4. The following script can extract the information from the text file for further use - all the while protecting your tokens/secrets!"
      ]
    },
    {
      "cell_type": "code",
      "metadata": {
        "id": "L5qaPjgrTPyC",
        "colab_type": "code",
        "colab": {}
      },
      "source": [
        "# Essential libraries for working with any API\n",
        "import requests\n",
        "from requests_oauthlib import OAuth1\n",
        "import json\n",
        "\n",
        "# Extracts sensitive consumer/access information from file\n",
        "def getTwitterKeys(filename):\n",
        "    fin = open(filename)\n",
        "    consumer_key = fin.readline().strip()\n",
        "    consumer_secret = fin.readline().strip()\n",
        "    access_token = fin.readline().strip()\n",
        "    access_secret = fin.readline().strip()\n",
        "    fin.close()\n",
        "    return consumer_key, consumer_secret, access_token, access_secret\n",
        "\n",
        "# Call function on information-bearing file\n",
        "apikeyfile = # insert file name as a string here\n",
        "consumer_key, consumer_secret, access_token, access_secret = getTwitterKeys(apikeyfile)\n",
        "\n",
        "# Print any of the variables to see if they were extracted correctly from the file"
      ],
      "execution_count": null,
      "outputs": []
    },
    {
      "cell_type": "markdown",
      "metadata": {
        "id": "G39wqvr8aTIy",
        "colab_type": "text"
      },
      "source": [
        "5. Set up authentication for your project using the following script:"
      ]
    },
    {
      "cell_type": "code",
      "metadata": {
        "id": "CSYfUu42bbIQ",
        "colab_type": "code",
        "colab": {}
      },
      "source": [
        "twitter_auth = OAuth1(consumer_key, client_secret=consumer_secret,\n",
        "                      resource_owner_key=access_token, \n",
        "                      resource_owner_secret=access_secret)"
      ],
      "execution_count": null,
      "outputs": []
    },
    {
      "cell_type": "markdown",
      "metadata": {
        "id": "IA0D_QtocioP",
        "colab_type": "text"
      },
      "source": [
        "6. Begin coding! Here are some resources on how to post and search Twitter\n",
        "\n",
        "*Code adapted from Professor Ethan Danahy's Intro to Computing in Engineering course and notebooks*\n",
        "\n",
        "For guidance on extracting from dictionaries (you will need for navigating the JSON data structure): [Dictionaries](https://www.w3schools.com/python/python_dictionaries.asp)"
      ]
    },
    {
      "cell_type": "code",
      "metadata": {
        "id": "cv4ikdidekw_",
        "colab_type": "code",
        "colab": {}
      },
      "source": [
        "\"\"\"\"\n",
        "  COMMANDS FOR SEARCH FOR RECENT TWEETS\n",
        "\"\"\"\n",
        "\n",
        "# our customization of search:\n",
        "query =  # customize to your topic\n",
        "num_results = # insert amount of results you'd like to be retrieved\n",
        "\n",
        "# set up the twitter call\n",
        "base_url = 'https://api.twitter.com/'\n",
        "# set search url:\n",
        "search_url = '{}1.1/search/tweets.json'.format(base_url)\n",
        "\n",
        "# build search parameters\n",
        "search_params = {'q': query, 'result_type': 'recent', 'count': num_results}\n",
        "\n",
        "# perform the search and get back the results\n",
        "response = requests.get(search_url, params=search_params, auth=twitter_auth)\n",
        "\n",
        "print(\"Response:\", response) \n",
        "print(\"Text:\", response.text)\n",
        "response_data = json.loads(response.text)\n",
        "print(\"JSON:\", response_data) # convert to JSON data structure\n"
      ],
      "execution_count": null,
      "outputs": []
    },
    {
      "cell_type": "code",
      "metadata": {
        "id": "3CXPeBYPfHYc",
        "colab_type": "code",
        "colab": {}
      },
      "source": [
        "\"\"\"\n",
        "  COMMANDS FOR POSTING A TWEET\n",
        "\"\"\"\n",
        "\n",
        "# set up the twitter call\n",
        "base_url = 'https://api.twitter.com/'\n",
        "# post_url:\n",
        "post_url = '{}1.1/statuses/update.json'.format(base_url)\n",
        "\n",
        "# post parameters (status is only required field)\n",
        "message = 'Hello, World!'\n",
        "post = {\"status\": message} # create data structure to post\n",
        "\n",
        "response = requests.post(post_url, data=post, auth=twitter_auth)\n",
        "\n",
        "print(\"Response:\", response) # should be <200> meaning it worked\n",
        "print(\"Text:\", response.text) # reply back from Twitter about our post\n",
        "print(\"JSON:\", json.loads(response.text))"
      ],
      "execution_count": null,
      "outputs": []
    }
  ]
}