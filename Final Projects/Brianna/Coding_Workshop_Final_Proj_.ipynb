{
  "nbformat": 4,
  "nbformat_minor": 0,
  "metadata": {
    "colab": {
      "name": "Coding Workshop Final Proj.",
      "provenance": []
    },
    "kernelspec": {
      "name": "python3",
      "display_name": "Python 3"
    }
  },
  "cells": [
    {
      "cell_type": "code",
      "metadata": {
        "id": "5hszuc4MpxW5",
        "colab_type": "code",
        "colab": {}
      },
      "source": [
        "###NUMBER GUESSING GAME"
      ],
      "execution_count": null,
      "outputs": []
    },
    {
      "cell_type": "code",
      "metadata": {
        "id": "vfty8Y8ip6r-",
        "colab_type": "code",
        "colab": {
          "base_uri": "https://localhost:8080/",
          "height": 153
        },
        "outputId": "b3b02062-e993-45ea-af3b-3613b5f0b1c2"
      },
      "source": [
        "import random\n",
        " \n",
        "hidden = random.randrange(1,10)\n",
        " \n",
        "while True:\n",
        "  guess = int(input(\" Please enter your guess: \"))\n",
        "  if guess == hidden:\n",
        "    print(\"WINNER!\")\n",
        "    break\n",
        "  elif guess < hidden :\n",
        "    print(\"Your guess is too low\")\n",
        "  else:\n",
        "    print(\"Your guess is too high\")\n",
        "  "
      ],
      "execution_count": 5,
      "outputs": [
        {
          "output_type": "stream",
          "text": [
            " Please enter your guess: 6\n",
            "Your guess is too high\n",
            " Please enter your guess: 7\n",
            "Your guess is too high\n",
            " Please enter your guess: 5\n",
            "Your guess is too high\n",
            " Please enter your guess: 4\n",
            "WINNER!\n"
          ],
          "name": "stdout"
        }
      ]
    },
    {
      "cell_type": "code",
      "metadata": {
        "id": "lO6b_J3VHstk",
        "colab_type": "code",
        "colab": {}
      },
      "source": [
        ""
      ],
      "execution_count": null,
      "outputs": []
    }
  ]
}