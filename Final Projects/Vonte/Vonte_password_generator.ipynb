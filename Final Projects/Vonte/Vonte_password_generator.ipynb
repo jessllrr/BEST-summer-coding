{
  "nbformat": 4,
  "nbformat_minor": 0,
  "metadata": {
    "colab": {
      "name": "Vonte password generator",
      "provenance": []
    },
    "kernelspec": {
      "name": "python3",
      "display_name": "Python 3"
    }
  },
  "cells": [
    {
      "cell_type": "code",
      "metadata": {
        "id": "zbHSMZqbLq5S",
        "colab_type": "code",
        "colab": {
          "base_uri": "https://localhost:8080/",
          "height": 54
        },
        "outputId": "47b6d2ad-6d37-4b4c-c882-29f8f2a30f45"
      },
      "source": [
        "#Generating a random password\n",
        "#Find a generator command\n",
        "\n",
        "def password(length):\n",
        "    pw = str()\n",
        "    characters = \"DavonteHuzle123456789?\"\n",
        "    for i in range(length):\n",
        "      pw = pw + random.choice(characters)\n",
        "    print(pw)\n",
        "    return (pw)\n",
        "\n",
        "password(40)"
      ],
      "execution_count": 9,
      "outputs": [
        {
          "output_type": "stream",
          "text": [
            "ll6?z8e755579zuaa9leoH76v8a7o6a8H2e93oz7\n"
          ],
          "name": "stdout"
        },
        {
          "output_type": "execute_result",
          "data": {
            "application/vnd.google.colaboratory.intrinsic+json": {
              "type": "string"
            },
            "text/plain": [
              "'ll6?z8e755579zuaa9leoH76v8a7o6a8H2e93oz7'"
            ]
          },
          "metadata": {
            "tags": []
          },
          "execution_count": 9
        }
      ]
    }
  ]
}