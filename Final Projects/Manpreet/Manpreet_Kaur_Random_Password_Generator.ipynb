{
  "nbformat": 4,
  "nbformat_minor": 0,
  "metadata": {
    "colab": {
      "name": "Manpreet Kaur Random Password Generator.ipynb",
      "provenance": []
    },
    "kernelspec": {
      "name": "python3",
      "display_name": "Python 3"
    }
  },
  "cells": [
    {
      "cell_type": "markdown",
      "metadata": {
        "id": "sYvMy7uorQ6f",
        "colab_type": "text"
      },
      "source": [
        "Manpreet Kaur - Final Project "
      ]
    },
    {
      "cell_type": "code",
      "metadata": {
        "id": "JqubzgqLrW3f",
        "colab_type": "code",
        "colab": {}
      },
      "source": [
        "#Random Password Generator-Using UserInput\n",
        "\n",
        "import random\n",
        "\n",
        "characters =\"abcdefghijklmnopqrstuvwxyzABCDEFGHIJKLMNOPQRSTUVWXYZ1234567890!@#$%^&*\"\n",
        "numberPassword = int(input(\"How many passwords?: \"))\n",
        "lengthPassword = int(input(\"Length of password?: \"))\n",
        "\n",
        "for i in range(numberPassword):\n",
        "  newPassword = \" \"\n",
        "  for j in range(lengthPassword):\n",
        "    newPassword = newPassword+random.choice(characters)\n",
        "  print(newPassword)\n",
        "\n",
        "\n",
        "\n"
      ],
      "execution_count": null,
      "outputs": []
    },
    {
      "cell_type": "code",
      "metadata": {
        "id": "qhC6yATIvU5t",
        "colab_type": "code",
        "colab": {}
      },
      "source": [
        "#Random Password Generator-Without UserInput and Using function \n",
        "\n",
        "import random\n",
        "def password(numberPassword, lengthPassword):\n",
        "  characters = \"abcdefghijklmnaopqrstuvwxyzABCDEFGHIJKLMNAOPQRSTUVWXYZ1234567890!@#$%^&*\"\n",
        "  \n",
        "\n",
        "  for i in range(numberPassword):\n",
        "    newPassword = \" \"\n",
        "    for j in range(lengthPassword):\n",
        "      newPassword=newPassword+random.choice(characters)\n",
        "    print(newPassword)\n",
        "\n",
        "password(2,3)\n",
        "password(7,8)\n"
      ],
      "execution_count": null,
      "outputs": []
    }
  ]
}