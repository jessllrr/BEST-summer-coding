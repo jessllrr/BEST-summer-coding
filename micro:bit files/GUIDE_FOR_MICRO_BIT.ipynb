{
  "nbformat": 4,
  "nbformat_minor": 0,
  "metadata": {
    "colab": {
      "name": "GUIDE FOR MICRO:BIT.ipynb",
      "provenance": [],
      "authorship_tag": "ABX9TyPBr190S0HlBgad9zdu8008",
      "include_colab_link": true
    },
    "kernelspec": {
      "name": "python3",
      "display_name": "Python 3"
    }
  },
  "cells": [
    {
      "cell_type": "markdown",
      "metadata": {
        "id": "view-in-github",
        "colab_type": "text"
      },
      "source": [
        "<a href=\"https://colab.research.google.com/github/jessllrr/BEST-summer-coding/blob/master/micro%3Abit%20files/GUIDE_FOR_MICRO_BIT.ipynb\" target=\"_parent\"><img src=\"https://colab.research.google.com/assets/colab-badge.svg\" alt=\"Open In Colab\"/></a>"
      ]
    },
    {
      "cell_type": "markdown",
      "metadata": {
        "id": "h1RFdLn13ncW",
        "colab_type": "text"
      },
      "source": [
        "#Guide to All Things micro:bit\n",
        "This is a guide on everything we will be using from the Python micro:bit module (library). \n",
        "\n",
        "## Importing the micro:bit module\n",
        "All of the pre-existing material for the micro:bit - all the pre-built functions and images and keywords - are not built-in to Python! You have to import the micro:bit library to use them. You can do so with this command: \n",
        "- `from microbit import *`\n",
        "- basically reads like \"I want to be able to use everything from the micro:bit code library\"\n",
        "\n",
        "## The `while True` Loop\n",
        "You'll often see this in every micro:bit code. The while True loop is an infinite loop - that is, it runs forever. What this means for the micro:bit is that, you can run the program on it whenever you want as long as it's plugged into power. \n",
        "\n",
        "We'll speak more about instances where we don't need this loop - but for now as a rule of thumb, make sure it is always in your code.\n"
      ]
    },
    {
      "cell_type": "code",
      "metadata": {
        "id": "AjJPOLt83huq",
        "colab_type": "code",
        "colab": {}
      },
      "source": [
        "from microbit import *\n",
        "\n",
        "while True:\n",
        "  # here is where you program what you want the micro:bit to do"
      ],
      "execution_count": null,
      "outputs": []
    },
    {
      "cell_type": "markdown",
      "metadata": {
        "id": "UByPr_skhZvu",
        "colab_type": "text"
      },
      "source": [
        "## The `display` Command\n",
        "\n",
        "The `display` module is a module within the micro:bit module which has a ton of functions which control the 5 X 5 LED display on your micro:bit. Think of it like the print() function of the micro:bit. Generally, we use it to scroll text or show an image... This is how we will use it:"
      ]
    },
    {
      "cell_type": "code",
      "metadata": {
        "id": "x2z0Y36diLi0",
        "colab_type": "code",
        "colab": {}
      },
      "source": [
        "###RUN THIS CELL IN MICROBIT PYTHON EDITOR###\n",
        "from microbit import *\n",
        "\n",
        "# TO SCROLL TEXT (this is generally for strings)\n",
        "display.scroll(\"Anything you want here, as long as it can turn into a string\")\n",
        "\n",
        "# TO SHOW AN IMAGE (this is generally for images)\n",
        "display.show(\"\"'Replace this with any of the Images below\"\"')"
      ],
      "execution_count": null,
      "outputs": []
    },
    {
      "cell_type": "markdown",
      "metadata": {
        "id": "jMP9sFadfBzq",
        "colab_type": "text"
      },
      "source": [
        "## Images\n",
        "\n",
        "The micro:bit has some pre-coded images which you can display on your micro:bit without having to code each LED individually beforehand. Here are a few:\n",
        "* `Image.HEART`\n",
        "* `Image.HAPPY`\n",
        "* `Image.SAD`\n",
        "* `Image.ANGRY`\n",
        "* `Image.ASLEEP`\n",
        "* `Image.MEH`\n",
        "* `Image.YES`\n",
        "* `Image.NO`\n",
        "* `Image.CLOCK12` (and CLOCK11, CLOCK10, etc...)\n",
        "* `Image.ARROW_N` (and ARROW_S, ARROW_E, etc...)\n",
        "* `Image.TRIANGLE`\n",
        "* `Image.CHESSBOARD`\n",
        "* `Image.SQUARE`\n",
        "* `Image.PACMAN`\n",
        "* `Image.TARGET`\n",
        "* `Image.TORTOISE`\n",
        "* `Image.BUTTERFLY`\n",
        "* `Image.STICKFIGURE`\n",
        "* `Image.GHOST`\n",
        "* `Image.SWORD`\n",
        "\n",
        "\n",
        "> **Coding your own Images**: Let's say you want to create your own image! As long as you can do that on a five-by-five LED display, then you can do that on the micro:bit! Learn more about that here: [DIY Images](https://microbit-micropython.readthedocs.io/en/latest/tutorials/images.html#diy-images)\n",
        "\n",
        "## Animations\n",
        "\n",
        "Imagine we wanted to display a moving clock... we can do this! Images can be placed together in a list and we can then tell micro:bit to animate that list of images. For example:\n",
        "\n",
        "\n",
        "\n",
        "\n"
      ]
    },
    {
      "cell_type": "code",
      "metadata": {
        "id": "aCA8pIpef-Mz",
        "colab_type": "code",
        "colab": {}
      },
      "source": [
        "###RUN THIS CELL IN MICROBIT PYTHON EDITOR###\n",
        "from microbit import *\n",
        "\n",
        "# CREATE LIST OF IMAGES\n",
        "all_clocks = [Image.CLOCK12, Image.CLOCK11, Image.CLOCK10,\n",
        "              Image.CLOCK9, Image.CLOCK8, Image.CLOCK7,\n",
        "              Image.CLOCK6, Image.CLOCK5, Image.CLOCK4,\n",
        "              Image.CLOCK3, Image.CLOCK2, Image.CLOCK1 ]\n",
        "\n",
        "# DISPLAY TO MICRO:BIT DISPLAY\n",
        "display.show(all_clocks, loop=True, delay=100)\n",
        "\n",
        "# FLASH MICRO:BIT"
      ],
      "execution_count": null,
      "outputs": []
    },
    {
      "cell_type": "markdown",
      "metadata": {
        "id": "fDCnsyqkhytL",
        "colab_type": "text"
      },
      "source": [
        "## Buttons\n",
        "\n",
        "The micro:bit has two buttons, which in code are referred to as objects `button_a` and `button_b`. We can use these objects and their associated functions to figure out information like: \n",
        "- how much has the button been pressed?\n",
        "  - `button_a.get_presses()` is a fruitful function which returns the number of times the button has been pressed (Integer)\n",
        "- is the button pressed?\n",
        "  - `button_a.is_pressed()` is a fruitful function which returns whether the button has been pressed or not (True or False)\n"
      ]
    },
    {
      "cell_type": "code",
      "metadata": {
        "id": "O2R6_hcJlcs-",
        "colab_type": "code",
        "colab": {}
      },
      "source": [
        "###RUN THIS CELL IN MICROBIT PYTHON EDITOR###\n",
        "from microbit import *\n",
        "\n",
        "# HOW MUCH HAS THE BUTTON BEEN PRESSED?\n",
        "sleep(10000)                        # this pauses intepreter, leaving time for you to press the 'a' button\n",
        "                                    # 10000 ms = 10 s\n",
        "display.scroll(str(button_a.get_presses()))\n",
        "\n",
        "# IS THE BUTTON PRESSED?\n",
        "while True:                        \n",
        "    if button_a.is_pressed():       # check is button_a is pressed\n",
        "        display.show(Image.HAPPY)    \n",
        "    elif button_b.is_pressed():     # check if button_b is pressed\n",
        "        break                        \n",
        "    else:                           # condition where neither button has been pressed\n",
        "        display.show(Image.SAD)\n",
        "\n",
        "display.clear()"
      ],
      "execution_count": null,
      "outputs": []
    },
    {
      "cell_type": "markdown",
      "metadata": {
        "id": "t3Ms2PfLoNb-",
        "colab_type": "text"
      },
      "source": [
        "## Random\n",
        "There may be times where you want to leave things to chance - for example, when writing the script for a dice you probably want to randomly choose a number! Python (not micro:bit) has a module for this called **random**. Random has many functions, but here are a few that are useful to us...\n",
        "* `random.choice(given_list)` this function takes any list and picks a random item in the list and returns it! This is a fruitful function!\n",
        "* `random.randint(num_one, num_two)` this function picks a random number between num_one and num_two and returns it! This is a fruitful function as well!"
      ]
    },
    {
      "cell_type": "code",
      "metadata": {
        "id": "PDZcOvBCzVS2",
        "colab_type": "code",
        "colab": {}
      },
      "source": [
        "###RUN THIS CELL IN COLAB###\n",
        "from microbit import *\n",
        "import random        # without this line, we can't use anything from random\n",
        "\n",
        "# CHOOSE RANDOMLY FROM A LIST\n",
        "example_list = [\"orange\", \"blue\", \"yellow\", \"red\", \"pink\"]\n",
        "chosen_item = random.choice(example_list)\n",
        "print(chosen_item)\n",
        "\n",
        "# CHOOSE A NUMBER RANDOMLY FROM A GIVEN RANGE\n",
        "random_number = random.randint(1,10)\n",
        "print(random_number)"
      ],
      "execution_count": null,
      "outputs": []
    },
    {
      "cell_type": "markdown",
      "metadata": {
        "id": "j6v7YOskI4jG",
        "colab_type": "text"
      },
      "source": [
        "##Accelerometer\n",
        "The accelerometer measures movements across three axes... \n",
        "1. X - tilting left to right\n",
        "2. Y - tilting forwards and backwards\n",
        "3. Z - moving up and down\n",
        "\n",
        "Here is a simple script to measure how the micro:bit measures its position along the x-axis:"
      ]
    },
    {
      "cell_type": "code",
      "metadata": {
        "id": "uRByEac-Ja-g",
        "colab_type": "code",
        "colab": {}
      },
      "source": [
        "###RUN THIS CELL IN MICROBIT PYTHON EDITOR###\n",
        "from microbit import *\n",
        "\n",
        "while True:\n",
        "    reading = accelerometer.get_x()\n",
        "    if reading > 20:\n",
        "        display.show(\"R\")\n",
        "    elif reading < -20:\n",
        "        display.show(\"L\")\n",
        "    else:\n",
        "        display.show(\"-\")\n",
        "\n",
        "# CODE DESCRIPTION:\n",
        "# this code displays a dash if the micro:bit is level to the ground\n",
        "# an 'R' if the micro:bit is tilted to the right\n",
        "# and an 'L' if the micro:bit is tilted to the left"
      ],
      "execution_count": null,
      "outputs": []
    },
    {
      "cell_type": "markdown",
      "metadata": {
        "id": "I86AAE1YJiVo",
        "colab_type": "text"
      },
      "source": [
        "The accelerometer can also be used to detect gestures. It can detect the following movements: up, down, left, right, face up, face down, freefall, 3g, 6g, 8g, shake. To retrieve the current gesture, we use...\n",
        "- `gesture = accelerometer.current_gesture()`"
      ]
    },
    {
      "cell_type": "code",
      "metadata": {
        "id": "Lk58oiVwKQRE",
        "colab_type": "code",
        "colab": {}
      },
      "source": [
        "###RUN THIS CELL IN MICROBIT PYTHON EDITOR###\n",
        "from microbit import *\n",
        "\n",
        "while True:\n",
        "    gesture = accelerometer.current_gesture()\n",
        "    if gesture == \"face up\":\n",
        "      display.show(Image.HAPPY)\n",
        "    elif gesture == \"face down\":\n",
        "      display.show(Image.SAD)\n",
        "    elif gesture == \"shake\":\n",
        "      display.show(Image.ANGRY)\n",
        "    else:\n",
        "      display.show(Image.MEH)\n",
        "    \n",
        "\n",
        "# CODE DESCRIPTION:\n",
        "# this code displays a happy face if the micro:bit is face up\n",
        "# a sad face if the micro:bit is face down\n",
        "# an angry face if the micro:bit is shaked\n",
        "# and a 'meh' face for anything else."
      ],
      "execution_count": null,
      "outputs": []
    }
  ]
}