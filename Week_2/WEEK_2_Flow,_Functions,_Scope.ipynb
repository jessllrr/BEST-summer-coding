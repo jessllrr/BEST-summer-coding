{
  "nbformat": 4,
  "nbformat_minor": 0,
  "metadata": {
    "colab": {
      "name": "WEEK 2: Flow, Functions, Scope.ipynb",
      "provenance": [],
      "authorship_tag": "ABX9TyOuKuvxhqdg4ZfTlY2nHW/t",
      "include_colab_link": true
    },
    "kernelspec": {
      "name": "python3",
      "display_name": "Python 3"
    }
  },
  "cells": [
    {
      "cell_type": "markdown",
      "metadata": {
        "id": "view-in-github",
        "colab_type": "text"
      },
      "source": [
        "<a href=\"https://colab.research.google.com/github/jessllrr/BEST-summer-coding/blob/master/WEEK_2_Flow%2C_Functions%2C_Scope.ipynb\" target=\"_parent\"><img src=\"https://colab.research.google.com/assets/colab-badge.svg\" alt=\"Open In Colab\"/></a>"
      ]
    },
    {
      "cell_type": "markdown",
      "metadata": {
        "id": "sYI09a_jdX3L",
        "colab_type": "text"
      },
      "source": [
        "Add your name here: [name]\n"
      ]
    },
    {
      "cell_type": "code",
      "metadata": {
        "id": "KgHhRHQveUv_",
        "colab_type": "code",
        "colab": {}
      },
      "source": [
        "# update name variable with your name and run cell\n",
        "name = \"YOUR NAME\"\n",
        "print(\"This notebook belongs to\", name)"
      ],
      "execution_count": null,
      "outputs": []
    },
    {
      "cell_type": "markdown",
      "metadata": {
        "id": "WQWhbVe9eVp-",
        "colab_type": "text"
      },
      "source": [
        "#Background Info-------------------------------------------------------\n",
        "## A quick note on Comments\n",
        "In Python, a way for you to write notes in the middle of a python code/script is through the use of comments. Comments are colored green in colab and are marked by a hashtag at the start of the line. Comments are not executed by the python interpreter and because of that are good for leaving notes.\n",
        "\n",
        "##Functions\n",
        "\n",
        "We use functions when we notice that there is a snippet of code that we use a lot. Functions are great for reusability - once a function is defined you can use it over and over again. \n",
        "\n",
        "It is important to understand all the components of a function in Python.\n",
        "\n",
        "1.   Function header\n",
        "2.   Function body\n",
        "3.   Function call\n",
        "\n",
        "Below are a few examples and before each example is a 'function contract' where the function definition, parameters, return type, and call are described.\n",
        "\n",
        "####**Run the code cells and see how the output changes when you uncomment the indicated lines of code**\n",
        "\n"
      ]
    },
    {
      "cell_type": "code",
      "metadata": {
        "id": "q5xU0OkFhmV-",
        "colab_type": "code",
        "colab": {}
      },
      "source": [
        "# Definition   : function name is \"hello_world()\" and it prints \"Hello, World!\"\n",
        "# Parameters   : function takes no parameters (parantheses are empty)\n",
        "# Return Type  : function returns nothing - it only prints\n",
        "# Function call: function is called by using its name \"hello_world\" \n",
        "def hello_world():\n",
        "  print(\"Hello, World!\")\n",
        "\n",
        "# Remove the hashtag from lines below one at a time and see what changes--------\n",
        "#hello_world()\n",
        "#print(type(hello_world))\n",
        "#print(type(hello_world()))"
      ],
      "execution_count": null,
      "outputs": []
    },
    {
      "cell_type": "code",
      "metadata": {
        "id": "-51r6KqBiVjg",
        "colab_type": "code",
        "colab": {}
      },
      "source": [
        "# Definition   : function name is \"evaluate cube(number)\" and it multiplies its\n",
        "#                parameter, number, by itself three times\n",
        "# Parameters   : function takes one parameter, assumably an integer or float\n",
        "# Return Type  : returns 'result', which is an integer or float\n",
        "# Function call: function is called by using its name and giving it a parameter\n",
        "#                which will be assigned to variable 'number' inside the function\n",
        "def evaluate_cube(number):\n",
        "  result = number * number * number\n",
        "  return result\n",
        "\n",
        "# Remove the hashtags from lines below one at a time and see what changes-------\n",
        "#print(evaluate_cube(3))\n",
        "#print(type(evaluate_cube))\n",
        "#print(type(evaluate_cube(3)))"
      ],
      "execution_count": 1,
      "outputs": []
    },
    {
      "cell_type": "code",
      "metadata": {
        "id": "QkYpT8rtjyew",
        "colab_type": "code",
        "colab": {}
      },
      "source": [
        "def eval_cube(num):\n",
        "  result = num * num * num\n",
        "  print(result)\n",
        "\n",
        "eval_cube(3)"
      ],
      "execution_count": null,
      "outputs": []
    },
    {
      "cell_type": "code",
      "metadata": {
        "id": "8C4Hw6gnmf1W",
        "colab_type": "code",
        "colab": {}
      },
      "source": [
        "def concatenate(string_one, string_two):\n",
        "  result = string_one + string_two\n",
        "  return result\n",
        "  \n",
        "your_name  = \" \" # insert your name in the double quotes\n",
        "megastring = concatenate(\"Hi, \",\"my name is \") + your_name\n",
        "print(megastring)"
      ],
      "execution_count": null,
      "outputs": []
    },
    {
      "cell_type": "markdown",
      "metadata": {
        "id": "q9hFx29BTCk-",
        "colab_type": "text"
      },
      "source": [
        "### Fruitful Functions versus Void Functions\n",
        "\n",
        "Remember that functions which use the 'return' keyword are considered fruitful functions - that is, they return a value. Void functions do not use the return keyword (which tells the Python interpreter to return a value) and thus, don't return anything. The way Python indicates this is by having void functions return 'None'. A special return type which just indicates the function returns nothing and is void!"
      ]
    },
    {
      "cell_type": "markdown",
      "metadata": {
        "id": "AB4OYmyFpHOV",
        "colab_type": "text"
      },
      "source": [
        "### Answer these questions...\n",
        "\n",
        "1.   Write the function contracts for eval_cube() and concatenate()\n",
        "2.   What are some of the differences between evaluate_cube() and \n",
        "eval_cube()?\n",
        "3.   Why am I able to use concatenate() in the variable megastring as I do?\n",
        "\n"
      ]
    },
    {
      "cell_type": "markdown",
      "metadata": {
        "id": "mAY9ryTFrYLi",
        "colab_type": "text"
      },
      "source": [
        "### Write your answers here:\n",
        "1. \n",
        "2. \n",
        "3. "
      ]
    },
    {
      "cell_type": "markdown",
      "metadata": {
        "id": "lqzPsPELri1M",
        "colab_type": "text"
      },
      "source": [
        "## Scope\n",
        "\n",
        "Try running the code below:"
      ]
    },
    {
      "cell_type": "code",
      "metadata": {
        "id": "YtulwDPcfPng",
        "colab_type": "code",
        "colab": {}
      },
      "source": [
        "def test_scope():\n",
        "  local_var = 10\n",
        "\n",
        "print(local_var)"
      ],
      "execution_count": null,
      "outputs": []
    },
    {
      "cell_type": "markdown",
      "metadata": {
        "id": "1ekKYRpyX7Sq",
        "colab_type": "text"
      },
      "source": [
        "There are three 'regions' or 'namespaces' code can exist in. Each one has a wider area it encompasses. \n",
        "\n",
        "1.   **Built-in namespace**: These are built-in functions and keywords such as print() or 'return' which the Python interpreter already knows. You can call them anywhere and the interpreter will recognize them. \n",
        "\n",
        "2.   **Global namespace**: These are global variables you might create or variables/functions from an imported library you might call on. You can also call them anywhere and the interpreter will recognize them. The difference here is that they aren't built-in and need to be imported or created.\n",
        "\n",
        "3.   **Local namespace**: These are regional variables that only exist in small portions of code such as within a function or within a for-loop.\n",
        "\n",
        "The above code didn't run because the variable 'local_var' exists only within the local namespace of the function body. If you try and call it outside of the function body, the Python interpreter won't recognize it. This is because the space outside of the function body is outside of the local namespace. \n"
      ]
    },
    {
      "cell_type": "markdown",
      "metadata": {
        "id": "gaFGApwcZcXl",
        "colab_type": "text"
      },
      "source": [
        "#Practice Problems----------------------------------------------------\n",
        "\n",
        "1. Python has a built-in function called 'len()' which takes a string as a parameter and returns the length of the string. **Write a function** that takes two parameters that are strings and returns the sum of the lengths of the two strings. \n",
        "\n",
        "2. There is a library called math which has a ton of useful functions ranging from math.sqrt() to math.factorial() to math.log(). You can find the documentation here: [math module](https://docs.python.org/3/library/math.html). Using math.sqrt(), **write a function** which calculates the hypotenuse of a right triangle given the length of the other two sides. In other words, write a function which performs the Pythagorean Theorem. Return the length of the hypotenuse.\n",
        "\n",
        "3. What namespace/scope does the len() function come from? What about math.sqrt()?\n",
        "\n",
        "[Write your answer to number 3 here]\n",
        "\n",
        "\n",
        "Write your solutions to the coding problems below:\n",
        "\n"
      ]
    },
    {
      "cell_type": "code",
      "metadata": {
        "id": "g60CBSafbcuP",
        "colab_type": "code",
        "colab": {}
      },
      "source": [
        ""
      ],
      "execution_count": null,
      "outputs": []
    },
    {
      "cell_type": "code",
      "metadata": {
        "id": "UFzoS46tbc9a",
        "colab_type": "code",
        "colab": {}
      },
      "source": [
        ""
      ],
      "execution_count": null,
      "outputs": []
    }
  ]
}
