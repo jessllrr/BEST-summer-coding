{
  "nbformat": 4,
  "nbformat_minor": 0,
  "metadata": {
    "colab": {
      "name": "Davonte Hudson WEEK 2: Flow, Functions, Scope.ipynb",
      "provenance": []
    },
    "kernelspec": {
      "name": "python3",
      "display_name": "Python 3"
    }
  },
  "cells": [
    {
      "cell_type": "markdown",
      "metadata": {
        "id": "sYI09a_jdX3L",
        "colab_type": "text"
      },
      "source": [
        "Add your name here: [name]\n"
      ]
    },
    {
      "cell_type": "code",
      "metadata": {
        "id": "KgHhRHQveUv_",
        "colab_type": "code",
        "colab": {}
      },
      "source": [
        "# update name variable with your name and run cell\n",
        "name = \"YOUR NAME\"\n",
        "print(\"This notebook belongs to\", name)"
      ],
      "execution_count": null,
      "outputs": []
    },
    {
      "cell_type": "markdown",
      "metadata": {
        "id": "WQWhbVe9eVp-",
        "colab_type": "text"
      },
      "source": [
        "#Background Info-------------------------------------------------------\n",
        "## A quick note on Comments\n",
        "In Python, a way for you to write notes in the middle of a python code/script is through the use of comments. Comments are colored green in colab and are marked by a hashtag at the start of the line. Comments are not executed by the python interpreter and because of that are good for leaving notes.\n",
        "\n",
        "##Functions\n",
        "\n",
        "We use functions when we notice that there is a snippet of code that we use a lot. Functions are great for reusability - once a function is defined you can use it over and over again. \n",
        "\n",
        "It is important to understand all the components of a function in Python.\n",
        "\n",
        "1.   Function header\n",
        "2.   Function body\n",
        "3.   Function call\n",
        "\n",
        "Below are a few examples and before each example is a 'function contract' where the function definition, parameters, return type, and call are described.\n",
        "\n",
        "####**Run the code cells and see how the output changes when you uncomment the indicated lines of code**\n",
        "\n"
      ]
    },
    {
      "cell_type": "code",
      "metadata": {
        "id": "q5xU0OkFhmV-",
        "colab_type": "code",
        "colab": {
          "base_uri": "https://localhost:8080/",
          "height": 51
        },
        "outputId": "43d637ac-5885-45be-c665-cc55b4f1061f"
      },
      "source": [
        "# Definition   : function name is \"hello_world()\" and it prints \"Hello, World!\"\n",
        "# Parameters   : function takes no parameters (parantheses are empty)\n",
        "# Return Type  : function returns nothing - it only prints\n",
        "# Function call: function is called by using its name \"hello_world\" \n",
        "def hello_world():\n",
        "  print(\"Hello, World!\")\n",
        "\n",
        "# Remove the hashtag from lines below one at a time and see what changes--------\n",
        "#hello_world()\n",
        "#print(type(hello_world))\n",
        "print(type(hello_world()))"
      ],
      "execution_count": 6,
      "outputs": [
        {
          "output_type": "stream",
          "text": [
            "Hello, World!\n",
            "<class 'NoneType'>\n"
          ],
          "name": "stdout"
        }
      ]
    },
    {
      "cell_type": "code",
      "metadata": {
        "id": "-51r6KqBiVjg",
        "colab_type": "code",
        "colab": {
          "base_uri": "https://localhost:8080/",
          "height": 51
        },
        "outputId": "2b675728-df7d-4cd5-9ae8-55a0a8725d3c"
      },
      "source": [
        "# Definition   : function name is \"evaluate cube(number)\" and it multiplies its\n",
        "#                parameter, number, by itself three times\n",
        "# Parameters   : function takes one parameter, assumably an integer or float\n",
        "# Return Type  : returns 'result', which is an integer or float\n",
        "# Function call: function is called by using its name and giving it a parameter\n",
        "#                which will be assigned to variable 'number' inside the function\n",
        "def evaluate_cube(number):\n",
        "  result = number * number * number\n",
        "  return result\n",
        "\n",
        "# Remove the hashtags from lines below one at a time and see what changes-------\n",
        "#print(evaluate_cube(3))\n",
        "print(type(evaluate_cube))\n",
        "print(type(evaluate_cube(3)))"
      ],
      "execution_count": 24,
      "outputs": [
        {
          "output_type": "stream",
          "text": [
            "<class 'function'>\n",
            "<class 'int'>\n"
          ],
          "name": "stdout"
        }
      ]
    },
    {
      "cell_type": "code",
      "metadata": {
        "id": "QkYpT8rtjyew",
        "colab_type": "code",
        "colab": {
          "base_uri": "https://localhost:8080/",
          "height": 34
        },
        "outputId": "9136695b-04af-4401-a26e-cd63c190711e"
      },
      "source": [
        "def eval_cube(num):\n",
        "  result = num * num * num\n",
        "  print(result)\n",
        "\n",
        "eval_cube(3)"
      ],
      "execution_count": 8,
      "outputs": [
        {
          "output_type": "stream",
          "text": [
            "27\n"
          ],
          "name": "stdout"
        }
      ]
    },
    {
      "cell_type": "code",
      "metadata": {
        "id": "8C4Hw6gnmf1W",
        "colab_type": "code",
        "colab": {
          "base_uri": "https://localhost:8080/",
          "height": 34
        },
        "outputId": "57fecbf7-40ca-44f4-e6cd-bded01da7038"
      },
      "source": [
        "def concatenate(string_one, string_two):\n",
        "  result = string_one + string_two\n",
        "  return result\n",
        "  \n",
        "your_name  = \"Davonte \" # insert your name in the double quotes\n",
        "megastring = concatenate(\"Hi, \",\"my name is \") + your_name\n",
        "print(megastring)"
      ],
      "execution_count": 9,
      "outputs": [
        {
          "output_type": "stream",
          "text": [
            "Hi, my name is Davonte \n"
          ],
          "name": "stdout"
        }
      ]
    },
    {
      "cell_type": "markdown",
      "metadata": {
        "id": "q9hFx29BTCk-",
        "colab_type": "text"
      },
      "source": [
        "### Fruitful Functions versus Void Functions\n",
        "\n",
        "Remember that functions which use the 'return' keyword are considered fruitful functions - that is, they return a value. Void functions do not use the return keyword (which tells the Python interpreter to return a value) and thus, don't return anything. The way Python indicates this is by having void functions return 'None'. A special return type which just indicates the function returns nothing and is void!"
      ]
    },
    {
      "cell_type": "markdown",
      "metadata": {
        "id": "AB4OYmyFpHOV",
        "colab_type": "text"
      },
      "source": [
        "### Answer these questions...\n",
        "\n",
        "1.   Write the function contracts for eval_cube() and concatenate()\n",
        "2.   What are some of the differences between evaluate_cube() and \n",
        "eval_cube()?\n",
        "3.   Why am I able to use concatenate() in the variable megastring as I do?\n",
        "\n"
      ]
    },
    {
      "cell_type": "markdown",
      "metadata": {
        "id": "mAY9ryTFrYLi",
        "colab_type": "text"
      },
      "source": [
        "### Write your answers here:\n",
        "1. evaluate_cube() concatenate(string)\n",
        "2. A diffrence is that you have to simplify the entire function to simple abbrevaiton if you use eval. Other than that, it's both the same thing and do the same things\n",
        "3. You can use it because you defined it as equalling certain strings, so when the code is completed, it would take concentrate and whatever is added to it."
      ]
    },
    {
      "cell_type": "markdown",
      "metadata": {
        "id": "lqzPsPELri1M",
        "colab_type": "text"
      },
      "source": [
        "## Scope\n",
        "\n",
        "Try running the code below:"
      ]
    },
    {
      "cell_type": "code",
      "metadata": {
        "id": "YtulwDPcfPng",
        "colab_type": "code",
        "colab": {
          "base_uri": "https://localhost:8080/",
          "height": 198
        },
        "outputId": "59f43ad1-6e93-4082-dcd9-f41d527277f8"
      },
      "source": [
        "def test_scope():\n",
        "  local_var = 10\n",
        "\n",
        "print(local_var)"
      ],
      "execution_count": 11,
      "outputs": [
        {
          "output_type": "error",
          "ename": "NameError",
          "evalue": "ignored",
          "traceback": [
            "\u001b[0;31m---------------------------------------------------------------------------\u001b[0m",
            "\u001b[0;31mNameError\u001b[0m                                 Traceback (most recent call last)",
            "\u001b[0;32m<ipython-input-11-dc646422fc99>\u001b[0m in \u001b[0;36m<module>\u001b[0;34m()\u001b[0m\n\u001b[1;32m      2\u001b[0m   \u001b[0mlocal_var\u001b[0m \u001b[0;34m=\u001b[0m \u001b[0;36m10\u001b[0m\u001b[0;34m\u001b[0m\u001b[0;34m\u001b[0m\u001b[0m\n\u001b[1;32m      3\u001b[0m \u001b[0;34m\u001b[0m\u001b[0m\n\u001b[0;32m----> 4\u001b[0;31m \u001b[0mprint\u001b[0m\u001b[0;34m(\u001b[0m\u001b[0mlocal_var\u001b[0m\u001b[0;34m)\u001b[0m\u001b[0;34m\u001b[0m\u001b[0;34m\u001b[0m\u001b[0m\n\u001b[0m",
            "\u001b[0;31mNameError\u001b[0m: name 'local_var' is not defined"
          ]
        }
      ]
    },
    {
      "cell_type": "markdown",
      "metadata": {
        "id": "1ekKYRpyX7Sq",
        "colab_type": "text"
      },
      "source": [
        "There are three 'regions' or 'namespaces' code can exist in. Each one has a wider area it encompasses. \n",
        "\n",
        "1.   **Built-in namespace**: These are built-in functions and keywords such as print() or 'return' which the Python interpreter already knows. You can call them anywhere and the interpreter will recognize them. \n",
        "\n",
        "2.   **Global namespace**: These are global variables you might create or variables/functions from an imported library you might call on. You can also call them anywhere and the interpreter will recognize them. The difference here is that they aren't built-in and need to be imported or created.\n",
        "\n",
        "3.   **Local namespace**: These are regional variables that only exist in small portions of code such as within a function or within a for-loop.\n",
        "\n",
        "The above code didn't run because the variable 'local_var' exists only within the local namespace of the function body. If you try and call it outside of the function body, the Python interpreter won't recognize it. This is because the space outside of the function body is outside of the local namespace. \n"
      ]
    },
    {
      "cell_type": "markdown",
      "metadata": {
        "id": "gaFGApwcZcXl",
        "colab_type": "text"
      },
      "source": [
        "#Practice Problems----------------------------------------------------\n",
        "\n",
        "1. Python has a built-in function called 'len()' which takes a string as a parameter and returns the length of the string. **Write a function** that takes two parameters that are strings and returns the sum of the lengths of the two strings. \n",
        "\n",
        "2. There is a library called math which has a ton of useful functions ranging from math.sqrt() to math.factorial() to math.log(). You can find the documentation here: [math module](https://docs.python.org/3/library/math.html). Using math.sqrt(), **write a function** which calculates the hypotenuse of a right triangle given the length of the other two sides. In other words, write a function which performs the Pythagorean Theorem. Return the length of the hypotenuse.\n",
        "\n",
        "3. What namespace/scope does the len() function come from? What about math.sqrt()?\n",
        "\n",
        "**len() functions come from python's libary, so it is a built in namescope. math.sqrt comes from a global namespace since it is imported from a library on the web.**\n",
        "\n",
        "\n",
        "Write your solutions to the coding problems below:\n",
        "\n"
      ]
    },
    {
      "cell_type": "code",
      "metadata": {
        "id": "g60CBSafbcuP",
        "colab_type": "code",
        "colab": {}
      },
      "source": [
        "# write your solution below\n",
        "def len(string_one, string_two): \n",
        "  result = kobe, bean\n",
        "  return result\n",
        "\n",
        "  print(len(string_one, string_two))\n"
      ],
      "execution_count": 22,
      "outputs": []
    },
    {
      "cell_type": "code",
      "metadata": {
        "id": "UFzoS46tbc9a",
        "colab_type": "code",
        "colab": {
          "base_uri": "https://localhost:8080/",
          "height": 34
        },
        "outputId": "10cca32c-85ce-4c47-d3e6-182e2ee72c5d"
      },
      "source": [
        "import math   # this line allows you to use the functions from math\n",
        "\n",
        "# write your solution below \n",
        "Rectangle_one = 5\n",
        "Rectangle_two = 7\n",
        "Kobe          = Rectangle_one * Rectangle_one\n",
        "Bean          = Rectangle_two * Rectangle_two\n",
        "Hypotnuse     = math.sqrt(Kobe + Bean)\n",
        "\n",
        "print(Hypotnuse)"
      ],
      "execution_count": 28,
      "outputs": [
        {
          "output_type": "stream",
          "text": [
            "8.602325267042627\n"
          ],
          "name": "stdout"
        }
      ]
    }
  ]
}