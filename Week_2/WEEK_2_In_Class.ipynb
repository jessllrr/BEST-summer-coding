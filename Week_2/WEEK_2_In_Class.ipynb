{
  "nbformat": 4,
  "nbformat_minor": 0,
  "metadata": {
    "colab": {
      "name": "WEEK 2: In-Class.ipynb",
      "provenance": [],
      "authorship_tag": "ABX9TyP4NHhyWV6ZEO5wxuSuZ2mn",
      "include_colab_link": true
    },
    "kernelspec": {
      "name": "python3",
      "display_name": "Python 3"
    }
  },
  "cells": [
    {
      "cell_type": "markdown",
      "metadata": {
        "id": "view-in-github",
        "colab_type": "text"
      },
      "source": [
        "<a href=\"https://colab.research.google.com/github/jessllrr/BEST-summer-coding/blob/master/WEEK_2_In_Class.ipynb\" target=\"_parent\"><img src=\"https://colab.research.google.com/assets/colab-badge.svg\" alt=\"Open In Colab\"/></a>"
      ]
    },
    {
      "cell_type": "markdown",
      "metadata": {
        "id": "0Pmedg1Ff-02",
        "colab_type": "text"
      },
      "source": [
        "# Print()...\n",
        "\n",
        "print() is a built-in python function which prints a message to standard output. Colab's standard output displays whenever you run your code or hit the 'play' button in the code cell. Standard output could also just mean a popup message to your screen.\n",
        "\n",
        "print() is a function, and from what we've seen so far, it takes a parameter: the message you want to 'print'. But there are many ways you can manipulate print() to change the format of your output. \n"
      ]
    },
    {
      "cell_type": "code",
      "metadata": {
        "id": "19X49JpJn0ct",
        "colab_type": "code",
        "colab": {
          "base_uri": "https://localhost:8080/",
          "height": 35
        },
        "outputId": "2e68a804-a97e-4ab2-8c66-96b40d58bd49"
      },
      "source": [
        "# standard use of print() (with variable)\n",
        "x = 10\n",
        "print(x)"
      ],
      "execution_count": 1,
      "outputs": [
        {
          "output_type": "stream",
          "text": [
            "10\n"
          ],
          "name": "stdout"
        }
      ]
    },
    {
      "cell_type": "code",
      "metadata": {
        "id": "MdG4gjovn5m9",
        "colab_type": "code",
        "colab": {
          "base_uri": "https://localhost:8080/",
          "height": 35
        },
        "outputId": "5b662442-d171-40a8-fbb0-d46b6bc2417b"
      },
      "source": [
        "# standard use of print() (without variable)\n",
        "print(10)"
      ],
      "execution_count": 2,
      "outputs": [
        {
          "output_type": "stream",
          "text": [
            "10\n"
          ],
          "name": "stdout"
        }
      ]
    },
    {
      "cell_type": "code",
      "metadata": {
        "id": "ljM9oFkPoneo",
        "colab_type": "code",
        "colab": {
          "base_uri": "https://localhost:8080/",
          "height": 35
        },
        "outputId": "32e47f38-f689-4ce8-90fc-366e55daf736"
      },
      "source": [
        "# another standard use of print() (with variables)\n",
        "x = \"Hi\"\n",
        "y = \"Everyone\"\n",
        "z = True\n",
        "print(x,y,z)"
      ],
      "execution_count": 5,
      "outputs": [
        {
          "output_type": "stream",
          "text": [
            "Hi Everyone True\n"
          ],
          "name": "stdout"
        }
      ]
    },
    {
      "cell_type": "code",
      "metadata": {
        "id": "8rwtay3ToBdl",
        "colab_type": "code",
        "colab": {
          "base_uri": "https://localhost:8080/",
          "height": 52
        },
        "outputId": "ef3f64dc-dcc7-4755-a105-88154ef9f2bd"
      },
      "source": [
        "# notice how print moves output to the next line\n",
        "print(\"Hello,\")\n",
        "print(\"World!\")"
      ],
      "execution_count": 6,
      "outputs": [
        {
          "output_type": "stream",
          "text": [
            "Hello,\n",
            "World!\n"
          ],
          "name": "stdout"
        }
      ]
    },
    {
      "cell_type": "code",
      "metadata": {
        "id": "cfQlJLkYsWP7",
        "colab_type": "code",
        "colab": {
          "base_uri": "https://localhost:8080/",
          "height": 52
        },
        "outputId": "ecc1e0ca-a439-4ed4-955b-87c1fceac248"
      },
      "source": [
        "print()\n",
        "print(\"Hi\")"
      ],
      "execution_count": 8,
      "outputs": [
        {
          "output_type": "stream",
          "text": [
            "\n",
            "Hi\n"
          ],
          "name": "stdout"
        }
      ]
    },
    {
      "cell_type": "markdown",
      "metadata": {
        "id": "fyadXqIZstoG",
        "colab_type": "text"
      },
      "source": [
        "There is still a lot more you can do to format your output to your liking! If you want a detailed description on how print() works, you can look at the documentation here: [Print Doc](https://docs.python.org/3/library/functions.html#print)\n",
        "\n",
        "#Modules/Libraries\n",
        "\n",
        "We learned a bit about importing libraries/modules into the global namespace this week. Once you import a module, it can be used anywhere in your script! Here are some useful libraries, their documentations, and how to import them.\n",
        "\n",
        "[Math Module](https://docs.python.org/3/library/math.html)\n",
        "*   math.sqrt() returns square root of the given parameter\n",
        "*   math.factorial() returns the factorial of the given parameter\n",
        "*   math.gcd() takes two parameters and returns their greatest common divisor\n",
        "*   etc... (look through documentation for complete list)\n",
        "\n",
        "\n",
        "[Time Module](https://docs.python.org/3/library/time.html#module-time)\n",
        "*   time.sleep() suspends execution for a given number of seconds\n",
        "*   time.time() takes no parameters and returns time (in seconds) since January 1, 1970 00:00:00 (UTC)\n",
        "*   etc... (look through documentation for complete list)\n",
        "\n",
        "[Statistics Module](https://docs.python.org/3/library/statistics.html#module-statistics)\n",
        "*   statistics.mean() takes a list of numbers and returns the mean\n",
        "*   statistics.median() takes a list of numbers and returns the median\n",
        "*   etc... (look through documentation for complete list)\n",
        "\n",
        "[Matplotlib Module](https://matplotlib.org/) (Python graphing tool)"
      ]
    },
    {
      "cell_type": "code",
      "metadata": {
        "id": "TLXKY_dDAvos",
        "colab_type": "code",
        "colab": {
          "base_uri": "https://localhost:8080/",
          "height": 87
        },
        "outputId": "9d7ae57e-6673-4ba1-f935-dc068ea75f4b"
      },
      "source": [
        "import time   # import is the keyword for importing libraries\n",
        "\n",
        "# let's say we want a countdown from 3 to 1....\n",
        "\n",
        "print(\"3...\")\n",
        "time.sleep(1)\n",
        "print(\"2...\")\n",
        "time.sleep(1)\n",
        "print(\"1...\")\n",
        "time.sleep(1)\n",
        "print(\"Blast-off!\")"
      ],
      "execution_count": 14,
      "outputs": [
        {
          "output_type": "stream",
          "text": [
            "3...\n",
            "2...\n",
            "1...\n",
            "Blast-off!\n"
          ],
          "name": "stdout"
        }
      ]
    },
    {
      "cell_type": "markdown",
      "metadata": {
        "id": "lb4h3hUjeNpX",
        "colab_type": "text"
      },
      "source": [
        "# Week 2 Questions?\n"
      ]
    },
    {
      "cell_type": "code",
      "metadata": {
        "id": "PBz-JjZouyf7",
        "colab_type": "code",
        "colab": {}
      },
      "source": [
        ""
      ],
      "execution_count": null,
      "outputs": []
    },
    {
      "cell_type": "markdown",
      "metadata": {
        "id": "-mBRDtMLh9J0",
        "colab_type": "text"
      },
      "source": [
        "# Brief Intro to If-Statements and Loops\n",
        "\n",
        "As we have learned so far, it seems like functions can be useful, but there isn't a whole bunch we can do with them yet. For instance, if we wanted to create a function which detected if a password is 'strong' or 'weak' - we'd need more tools than what we have learned so far.\n",
        "\n",
        "This is where If-Statements(Conditional Execution) and Loops(Iteration) come in. With these tools, functions can do more than before.\n",
        "\n",
        "## Quick For-loop Example\n",
        "Imagine we want a function that will count to a given number... here is how it would work:"
      ]
    },
    {
      "cell_type": "code",
      "metadata": {
        "id": "PtepiJYWBqqA",
        "colab_type": "code",
        "colab": {
          "base_uri": "https://localhost:8080/",
          "height": 69
        },
        "outputId": "07b5026d-5b8c-4283-b775-35d009516cc0"
      },
      "source": [
        "def count(number):\n",
        "  for x in range(number):\n",
        "    print(x+1)\n",
        "    \n",
        "count(3)"
      ],
      "execution_count": 17,
      "outputs": [
        {
          "output_type": "stream",
          "text": [
            "1\n",
            "2\n",
            "3\n"
          ],
          "name": "stdout"
        }
      ]
    },
    {
      "cell_type": "markdown",
      "metadata": {
        "id": "fiYjbB-3d5yd",
        "colab_type": "text"
      },
      "source": [
        "## Revisting the Rectangle Problem: \n",
        "Last week I had you write a simple script that compared the area of two rectangles. Let's try that again this week using functions and if-statements."
      ]
    },
    {
      "cell_type": "code",
      "metadata": {
        "id": "zTq74rDQd2v3",
        "colab_type": "code",
        "colab": {
          "base_uri": "https://localhost:8080/",
          "height": 35
        },
        "outputId": "0b560b38-8a88-42ec-d67c-930c578fe802"
      },
      "source": [
        "def find_greater_area(length_one,width_one,length_two,width_two):\n",
        "  rectangle_one_area = length_one * width_one\n",
        "  rectangle_two_area = length_two * width_two\n",
        "  if rectangle_one_area > rectangle_two_area:\n",
        "    print(\"Rectangle One has a greater area than rectangle two\")\n",
        "  else:\n",
        "    print(\"Rectangle Two has a greater area than rectangle one\")\n",
        "\n",
        "\n",
        "#find_greater_area(10,3,33,22)\n",
        "find_greater_area(55,10,4,9)"
      ],
      "execution_count": 20,
      "outputs": [
        {
          "output_type": "stream",
          "text": [
            "Rectangle One has a greater area than rectangle two\n"
          ],
          "name": "stdout"
        }
      ]
    }
  ]
}
