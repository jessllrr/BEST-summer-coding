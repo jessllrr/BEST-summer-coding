{
  "nbformat": 4,
  "nbformat_minor": 0,
  "metadata": {
    "colab": {
      "name": "Tylee--WEEK 1: IntroToPython.ipynb",
      "provenance": [],
      "toc_visible": true,
      "include_colab_link": true
    },
    "kernelspec": {
      "name": "python3",
      "display_name": "Python 3"
    }
  },
  "cells": [
    {
      "cell_type": "markdown",
      "metadata": {
        "id": "view-in-github",
        "colab_type": "text"
      },
      "source": [
        "<a href=\"https://colab.research.google.com/github/jessllrr/BEST-summer-coding/blob/master/Tylee_WEEK_1_IntroToPython.ipynb\" target=\"_parent\"><img src=\"https://colab.research.google.com/assets/colab-badge.svg\" alt=\"Open In Colab\"/></a>"
      ]
    },
    {
      "cell_type": "markdown",
      "metadata": {
        "id": "a-ovWyyl-zDK",
        "colab_type": "text"
      },
      "source": [
        "Add your name here: Tylee Nez"
      ]
    },
    {
      "cell_type": "markdown",
      "metadata": {
        "id": "1kcJ1HLHC8zU",
        "colab_type": "text"
      },
      "source": [
        "# Background Information---------------------------------------------------\n",
        "### What is Python?\n",
        "Python is an interpreted, general-purpose, high-level programming language.\n",
        "\n",
        "In the world of programming, there are **high-level**, **mid-level**, and **low-level languages**. What makes a language higher than the other?\n",
        "\n",
        "\n",
        "> **Abstraction...**\n",
        "I like to think of abstraction as how \"presentable\" the code is. Is it possible for a person with no programming experience to read code in this programming language and be able to interpret it with no guidance? If the answer is yes (or almost yes), this language is very abstract. Another way to think of abstraction is in terms of how much work does the program does for you. High-level languages can often accomplish a task in less commands than a low-level one.\n",
        "\n",
        "> **Processing time...** You would think a high-level language takes less time to process, right? Unfortunately, the abstraction present in high-level languages demands more processing time. Basically, it takes the computer more time to understand what a high-level language is saying versus a low-level language. This is because low-level languages work more on the \"computer's terms\" than high-level ones do. \n",
        "\n",
        "[Abstraction Diagram](https://drive.google.com/uc?export=view&id=18Wk3WOQ-JEtGUmUP_DKzZ_bl_jAiF4g7)\n",
        "\n",
        "### Compilers\n",
        "For a computer to process a high-level language, the code written in the high-level language must be translated so that the computer will understand it. Like stated earlier, high-level languages abstract to the degree where the language is readable to us but not necessarily a computer. \n",
        "\n",
        "Therefore, to process a high-level language, its code must go through **interpreters** or **compilers**.\n",
        "\n",
        "> An interpreter reads the code *line by line*. At each line, it translates and performs the command indicated by the contents of the line.\n",
        "\n",
        "> A compiler reads the whole code and creates a translated version called an **executable**, which is just the code you wrote but translated so that the computer can understand it.\n",
        "\n",
        "Python uses an interpreter. \n",
        "\n",
        "# Now for the Fun Stuff! --------------------------------------------------\n",
        "###Data Types and Variables\n",
        "There are several basic data types in python: integers, floats, booleans, and strings. We use these data types to store pieces of data. For instance, the number of dogs you own, a phone number, the temperature outside, etc...\n",
        "\n",
        "\n",
        "\n",
        "\n",
        "\n",
        "\n",
        "\n",
        "\n"
      ]
    },
    {
      "cell_type": "code",
      "metadata": {
        "id": "mTwZeLZ0iHOP",
        "colab_type": "code",
        "colab": {}
      },
      "source": [
        "dogs            = 2\n",
        "phone_number    = \"815386xxxx\" # Yes, that is part of my phone number.\n",
        "temperature     = 95.4 \n",
        "did_I_eat_lunch = True"
      ],
      "execution_count": null,
      "outputs": []
    },
    {
      "cell_type": "markdown",
      "metadata": {
        "id": "gcAmfakxnKiM",
        "colab_type": "text"
      },
      "source": [
        "\n",
        "\n",
        "*   **Integers (aka int) store numeric values**, so a phone number wouldn't work here because your phone number is more like an address and doesn't really posses a significant numerical value. However, something like the amount of amount \n",
        "*   **Floats store numerical values as a decimal**. Keep this in mind when choosing your data type. Integers do not represent whatever comes after the decimal. Floats do.\n",
        "*   **Booleans (aka bool) store true or false values; yes or no; 1 or 0**. In python, to assign a boolean a value of true, you must type it as 'True'. Capital T and all. Same for False. These are used in if-statements, which you will learn soon.\n",
        "* **Strings hold text and characters**. String use double quotes. \"**String**\" is a string, but **string** is not a string. Examples of strings include an address, a color of a fruit, the name of a city, etc... \n",
        "\n",
        "#### The way we keep track of data is by assigning data to a variable. We do this by first creating a variable and then assigning it to a piece of data. \n",
        "\n",
        "> First, to create a variable we need to create a variable name. Coding etiquette states this name has to make sense with the data we are storing the variable in. So if we wanted to store my dog's name, a variable called 'catName' wouldn't make sense now would it? And a variable name like 'x' falls a bit short. 'dogName' is perfect. Below is the syntax for creating an assigning a variable:\n",
        "\n",
        "\n",
        "\n"
      ]
    },
    {
      "cell_type": "code",
      "metadata": {
        "id": "XA_cSeAPsCGD",
        "colab_type": "code",
        "colab": {}
      },
      "source": [
        "dogName           = \"Mojo\"     # Note how strings use the double quotes\n",
        "catName           = \"Sir Gato\" # Yes, a space will show up in a string. Even if the string is just one space.\n",
        "isItBESTSummerYet = True       # Remember: capitals T or F for booleans!\n",
        "GPA               = 3.6        # Is this an int?\n",
        "daysInWeek        = 7          # No, but this is an int."
      ],
      "execution_count": null,
      "outputs": []
    },
    {
      "cell_type": "markdown",
      "metadata": {
        "id": "IxAenl9Nt2Tl",
        "colab_type": "text"
      },
      "source": [
        "###Expressions and Operators\n",
        "What if you want to write an equation? Or what if you want to add two strings together to form one big string (called concatenation)? What if you want to tally up a vote? **Operators are how you do this.**\n",
        "\n",
        "Operators take values and 'operate on' them. The plus sign '+' is an operator which adds two values. "
      ]
    },
    {
      "cell_type": "code",
      "metadata": {
        "id": "iz1dkq4MuoQU",
        "colab_type": "code",
        "colab": {}
      },
      "source": [
        "# Numerical operators: works with numbers and produces a number\n",
        "sumOfTwoNumbers  = 3 + 4 \n",
        "diffOfTwoNumbers = 3 - 4  # Yes, python can handle negative numbers!\n",
        "prodOfTwoNumbers = 3 * 4\n",
        "quotOfTwoNumbers = 3 / 4 "
      ],
      "execution_count": null,
      "outputs": []
    },
    {
      "cell_type": "code",
      "metadata": {
        "id": "loEL05xsvU8B",
        "colab_type": "code",
        "colab": {}
      },
      "source": [
        "# Boolean operators: works with just about any data type and produces a Boolean\n",
        "andOfTwoVals = True and False\n",
        "orOfTwoVals  = True or False\n",
        "notOfOneVal  = not True"
      ],
      "execution_count": null,
      "outputs": []
    },
    {
      "cell_type": "markdown",
      "metadata": {
        "id": "u_dxyrbzxGBI",
        "colab_type": "text"
      },
      "source": [
        "If you have never worked with the AND, OR, and NOT operators before, here is a truth table which explains how they are evaluated: \n",
        "[Truth Tables for AND, OR, and NOT](https://en.m.wikibooks.org/wiki/File:Truth_table_for_AND,_OR,_and_NOT.png)"
      ]
    },
    {
      "cell_type": "code",
      "metadata": {
        "id": "eWE_5wzwwEcI",
        "colab_type": "code",
        "colab": {}
      },
      "source": [
        "# Comparison operators: works with numbers and produces a Boolean\n",
        "isGreaterThan     = 4 > 3\n",
        "isGreaterThanOrEq = 4 >= 3\n",
        "isLessThan        = 4 < 3\n",
        "isLessThanOrEq    = 4 <= 3\n",
        "isEqualTo         = 4 == 3        # if they are equal, evaluates to True\n",
        "isNotEqualTo      = 4 != 3        # if they aren't equal, evaluates to True "
      ],
      "execution_count": null,
      "outputs": []
    },
    {
      "cell_type": "markdown",
      "metadata": {
        "id": "xpGzEyD-9qOA",
        "colab_type": "text"
      },
      "source": [
        "# Important Notes----------------------------------------------------------\n",
        "#### Make sure to run the code cells below to see what they do! You can do that by pressing the play button\n",
        "\n",
        "* If you haven't figured out yet, the \"print()\" function prints out whatever you provide it. Typically we place a variable name inside the parentheses but you can also just straightup put a number or expression."
      ]
    },
    {
      "cell_type": "code",
      "metadata": {
        "id": "oLIp4bFJ9ty5",
        "colab_type": "code",
        "colab": {
          "base_uri": "https://localhost:8080/",
          "height": 85
        },
        "outputId": "724b57fe-d83e-4c13-ef29-48744b043d9e"
      },
      "source": [
        "# Example of print statements\n",
        "var = \"hi!\"\n",
        "print(5)\n",
        "print(True and False)\n",
        "print(\"Hello, World!\")\n",
        "print(var)"
      ],
      "execution_count": null,
      "outputs": [
        {
          "output_type": "stream",
          "text": [
            "5\n",
            "False\n",
            "Hello, World!\n",
            "hi!\n"
          ],
          "name": "stdout"
        }
      ]
    },
    {
      "cell_type": "markdown",
      "metadata": {
        "id": "oBt6XawWyWDF",
        "colab_type": "text"
      },
      "source": [
        "*   We typically do not use numbers 1, 2, 3, etc... in variables names and we also don't use special characters like '!' or '*'.\n",
        "\n",
        "*   You can use variables in an expression, as long as they have been pre-defined. For instance..."
      ]
    },
    {
      "cell_type": "code",
      "metadata": {
        "id": "6ElqvZcKzECv",
        "colab_type": "code",
        "colab": {
          "base_uri": "https://localhost:8080/",
          "height": 34
        },
        "outputId": "b43b22cb-95fc-4baf-e48b-037e5c32ff5f"
      },
      "source": [
        "x = 100\n",
        "y = x + 20\n",
        "print(y)"
      ],
      "execution_count": null,
      "outputs": [
        {
          "output_type": "stream",
          "text": [
            "120\n"
          ],
          "name": "stdout"
        }
      ]
    },
    {
      "cell_type": "markdown",
      "metadata": {
        "id": "90Q7Vftf-gRw",
        "colab_type": "text"
      },
      "source": [
        "* In the above, note how 'x' was defined and assigned before I created 'y'. I then used 'x' when assigning 'y' to a value. It looks like 'y' evaluates to 4 (which is 44/11 or x/11).\n",
        "\n",
        "*   You can add two strings together using the '+' operator. This is called concatenation. Example below...\n",
        "\n"
      ]
    },
    {
      "cell_type": "code",
      "metadata": {
        "id": "Fm6WTW_R-mjt",
        "colab_type": "code",
        "colab": {
          "base_uri": "https://localhost:8080/",
          "height": 34
        },
        "outputId": "3118ed20-7ffe-4352-8f1d-b94ad9d3f446"
      },
      "source": [
        "stringOne = \"Hello,\"\n",
        "stringTwo = \" World!\"\n",
        "stringThree = \"!!!!!\"\n",
        "stringSum = stringOne + stringTwo + stringThree\n",
        "print(stringSum)"
      ],
      "execution_count": null,
      "outputs": [
        {
          "output_type": "stream",
          "text": [
            "Hello, World!!!!!!\n"
          ],
          "name": "stdout"
        }
      ]
    },
    {
      "cell_type": "markdown",
      "metadata": {
        "id": "DI6bBICKzU8Z",
        "colab_type": "text"
      },
      "source": [
        "\n",
        "* DO NOT THINK OF THE '=' AS SETTING THE VARIABLE *EQUAL* TO A PIECE OF DATA. Instead, think of the '=' as *assigning* the piece of data to a variable name. This is important to remember because....\n",
        "\n",
        "* You can give a variable a new value! A variable can be constantly changing in its value! Below, see how 'example' is changing to be equal to 14, then 11, then 12.\n",
        "\n",
        "\n",
        "\n",
        "\n",
        "\n"
      ]
    },
    {
      "cell_type": "code",
      "metadata": {
        "id": "MFOETRN5z7py",
        "colab_type": "code",
        "colab": {
          "base_uri": "https://localhost:8080/",
          "height": 34
        },
        "outputId": "35fb4bbd-065e-4020-b2b8-dc87e3ff5f32"
      },
      "source": [
        "example = 14\n",
        "example = 11\n",
        "example = example + 1\n",
        "print(example)"
      ],
      "execution_count": null,
      "outputs": [
        {
          "output_type": "stream",
          "text": [
            "12\n"
          ],
          "name": "stdout"
        }
      ]
    },
    {
      "cell_type": "markdown",
      "metadata": {
        "id": "q8nOWbOH1owO",
        "colab_type": "text"
      },
      "source": [
        "# Practice Problems--------------------------------------------------------\n",
        "\n",
        "\n",
        "1.   **Create some variables!** Create at least one variable for each data type we just went over. Make sure they follow coding etiquette rules.\n",
        "2.   **Create a short code.** Create a short code which takes the lengths and widths of two rectangles and determines if one rectangle's area is greater or equal than the other's. However you choose to do this is fine. Use print to print: the area of Rectangle One, the area of Rectangle Two, and the result of the comparison.\n",
        "3. **Make a variable that takes the square of another variable.** Print the result.\n",
        "\n"
      ]
    },
    {
      "cell_type": "code",
      "metadata": {
        "id": "IKsdmpXt9-GU",
        "colab_type": "code",
        "colab": {
          "base_uri": "https://localhost:8080/",
          "height": 85
        },
        "outputId": "22c57542-4814-48a6-84b5-c0701e37da3d"
      },
      "source": [
        "number = 5\n",
        "stringCity = \"boston\"\n",
        "today_is_friday = True\n",
        "costOfDrink = 3.17\n",
        "\n",
        "#printing code below\n",
        "\n",
        "print (number)\n",
        "print(stringCity)\n",
        "print (today_is_friday)\n",
        "print(costOfDrink)"
      ],
      "execution_count": null,
      "outputs": [
        {
          "output_type": "stream",
          "text": [
            "5\n",
            "boston\n",
            "True\n",
            "3.17\n"
          ],
          "name": "stdout"
        }
      ]
    },
    {
      "cell_type": "code",
      "metadata": {
        "id": "rEkjtfRrMItp",
        "colab_type": "code",
        "colab": {
          "base_uri": "https://localhost:8080/",
          "height": 85
        },
        "outputId": "eb050249-0cf7-44d4-ba72-c24340c18973"
      },
      "source": [
        "RectangleOneL = 7\n",
        "RectangleOneW = 4\n",
        "\n",
        "RectangleTwoL = 3\n",
        "RectangleTwoW = 8\n",
        "\n",
        "RectangleOneArea = RectangleOneL * RectangleOneW\n",
        "RectangleTwoArea = RectangleTwoL * RectangleTwoW\n",
        "\n",
        "stringResult = \"RectangleOne is greater: \" \n",
        "result = (RectangleOneArea >= RectangleTwoArea) == True\n",
        "\n",
        "print(RectangleOneArea)\n",
        "print(RectangleTwoArea)\n",
        "print(stringResult)\n",
        "print(result)"
      ],
      "execution_count": null,
      "outputs": [
        {
          "output_type": "stream",
          "text": [
            "28\n",
            "24\n",
            "RectangleOne is greater: \n",
            "False\n"
          ],
          "name": "stdout"
        }
      ]
    },
    {
      "cell_type": "code",
      "metadata": {
        "id": "0CdWtrrJMI5j",
        "colab_type": "code",
        "colab": {
          "base_uri": "https://localhost:8080/",
          "height": 34
        },
        "outputId": "bb18a671-d0a7-4423-83c8-385c3d2806fb"
      },
      "source": [
        "#idk if you mean a literal square or the mathematical term sqaure\n",
        "\n",
        "number = 4\n",
        "squareNumber = number * number\n",
        "\n",
        "print(squareNumber)"
      ],
      "execution_count": null,
      "outputs": [
        {
          "output_type": "stream",
          "text": [
            "16\n"
          ],
          "name": "stdout"
        }
      ]
    },
    {
      "cell_type": "code",
      "metadata": {
        "id": "M3jQu5cYMJDi",
        "colab_type": "code",
        "colab": {}
      },
      "source": [
        ""
      ],
      "execution_count": null,
      "outputs": []
    }
  ]
}
