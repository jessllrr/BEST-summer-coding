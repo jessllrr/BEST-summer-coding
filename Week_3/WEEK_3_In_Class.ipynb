{
  "nbformat": 4,
  "nbformat_minor": 0,
  "metadata": {
    "colab": {
      "name": "WEEK 3: In-Class.ipynb",
      "provenance": [],
      "authorship_tag": "ABX9TyMMJMnBS2Z9HgNejyDjE6vP",
      "include_colab_link": true
    },
    "kernelspec": {
      "name": "python3",
      "display_name": "Python 3"
    }
  },
  "cells": [
    {
      "cell_type": "markdown",
      "metadata": {
        "id": "view-in-github",
        "colab_type": "text"
      },
      "source": [
        "<a href=\"https://colab.research.google.com/github/jessllrr/BEST-summer-coding/blob/master/Week_3/WEEK_3_In_Class.ipynb\" target=\"_parent\"><img src=\"https://colab.research.google.com/assets/colab-badge.svg\" alt=\"Open In Colab\"/></a>"
      ]
    },
    {
      "cell_type": "markdown",
      "metadata": {
        "id": "Zw-mJIyBD3Cb",
        "colab_type": "text"
      },
      "source": [
        "# Week 2 Review"
      ]
    },
    {
      "cell_type": "code",
      "metadata": {
        "id": "l-7HJmZZDhq5",
        "colab_type": "code",
        "colab": {
          "base_uri": "https://localhost:8080/",
          "height": 35
        },
        "outputId": "62b7e764-558e-4a2d-f339-ab1e23115242"
      },
      "source": [
        "def evaluate_cube(number):\n",
        "  result = number * number * number\n",
        "  return result\n",
        "\n",
        "\n",
        "# Function name: eval_cube() - void function\n",
        "# Parameters: one parameter, data type integer/float (numeric)\n",
        "# What the function does: takes cube of given parameter and prints it to the console/output\n",
        "# What the function returns (if it returns anything): returns nothing\n",
        "def eval_cube(num):\n",
        "  result = num * num * num\n",
        "  print(result)\n",
        "\n",
        "# What are some differences?\n",
        "\n",
        "# Function name: concatenate() - fruitful function\n",
        "# Paramters: two parameters, both strings\n",
        "# What the function does: it adds the strings together to form one string\n",
        "# What the function returns: a 'megastring' which is the combination of the two given strings\n",
        "def concatenate(string_one, string_two):\n",
        "  result = string_one + string_two\n",
        "  return result\n",
        "  \n",
        "your_name  = \"\" # insert your name in the double quotes\n",
        "megastring = concatenate(\"Hi, \",\"my name is \") + your_name\n",
        "#print(megastring)\n",
        "\n",
        "# Why can I use concatenate() in the variable megastring as I do?\n",
        "\n",
        "x = evaluate_cube(2)\n",
        "y = eval_cube(2)\n"
      ],
      "execution_count": 29,
      "outputs": [
        {
          "output_type": "stream",
          "text": [
            "8\n"
          ],
          "name": "stdout"
        }
      ]
    },
    {
      "cell_type": "code",
      "metadata": {
        "id": "-hQyDaZg6wSL",
        "colab_type": "code",
        "colab": {
          "base_uri": "https://localhost:8080/",
          "height": 35
        },
        "outputId": "ee0ced94-4230-4f7c-c3f9-5cb5ae31c317"
      },
      "source": [
        "# Write a function using len() that print the sum of the lengths of the two strings\n",
        "\n",
        "def sumOfTwoStrings(string_one,string_two):\n",
        "  lengthStringOne = len(string_one)\n",
        "  lengthStringTwo = len(string_two)\n",
        "  sumLengths      = lengthStringOne + lengthStringTwo\n",
        "  return sumLengths\n",
        "  \n",
        "print(sumOfTwoStrings(\"Hi\",\"Bye\"))\n",
        "\n",
        "# Write a function using math.sqrt() and returns the hypotenuse of triangle given the lengths of the two sides\n",
        "def pythagoream(side_one, side_two):\n",
        "  calculation = side_one**2 + side_two**2\n",
        "  hypotenuse  = math.sqrt(calculation)\n",
        "  return hypotenuse\n",
        "\n",
        "\n",
        "math.pow(2,3)   # two to the third power"
      ],
      "execution_count": 23,
      "outputs": [
        {
          "output_type": "stream",
          "text": [
            "5\n"
          ],
          "name": "stdout"
        }
      ]
    },
    {
      "cell_type": "markdown",
      "metadata": {
        "id": "Q6joqhaQEcyd",
        "colab_type": "text"
      },
      "source": [
        "# Read the following\n",
        "- [Functions](https://www.w3schools.com/python/python_functions.asp)\n",
        "- [Control Flow](https://www.w3schools.com/python/python_conditions.asp)\n",
        "- [For Loops](https://www.w3schools.com/python/python_for_loops.asp)\n",
        "- [While Loops](https://www.w3schools.com/python/python_while_loops.asp)\n",
        "\n",
        "# Conditional Execution (If-Statements)\n",
        "- `if` is a python keyword which tells the interpreter to evaluate the code beneath is if a **condition** is met.\n",
        "- `elif` is another python keyword which tells the interpreter: \"if the previous conditions weren't true, try this condition.\"\n",
        "- `else` is another python keyword catches any conditions which aren't caught by an `if` or `elif`"
      ]
    },
    {
      "cell_type": "code",
      "metadata": {
        "id": "Dg01HrrxKHmi",
        "colab_type": "code",
        "colab": {}
      },
      "source": [
        "isCloudy = False                      # it's sunny outside!\n",
        "isDay    = True                       # it's daytime!\n",
        "\n",
        "# I want to know... what are the odds of me getting sunburnt today?\n",
        "if (not isCloudy) and isDay:          # if it ISN'T cloudy and if it is daytime, run the following code \n",
        "  print(\"Wear sunscreen!\") \n",
        "else:\n",
        "  print(\"You're probably okay.\")\n"
      ],
      "execution_count": null,
      "outputs": []
    },
    {
      "cell_type": "markdown",
      "metadata": {
        "id": "x47wUnLTK94J",
        "colab_type": "text"
      },
      "source": [
        "\n",
        "\n",
        "*   If condition: check if it's not cloudy **and** if it's daytime\n",
        "*   Else condition: any other case where it's not both not cloudy and daytime.\n",
        "> * It's not cloudy and nighttime\n",
        "> * It's cloudy and daytime\n",
        "> * It's cloudy and nighttime"
      ]
    },
    {
      "cell_type": "code",
      "metadata": {
        "id": "67sRnQmePz_1",
        "colab_type": "code",
        "colab": {}
      },
      "source": [
        "x = 3 \n",
        "if x > 0:\n",
        "  print(\"x is positive!\")\n",
        "elif x == 0:\n",
        "  print(\"x is zero!\")\n",
        "else:\n",
        "  print(\"x is negative!\")\n",
        "\n",
        "# Can you think of different conditions we can check for"
      ],
      "execution_count": null,
      "outputs": []
    },
    {
      "cell_type": "code",
      "metadata": {
        "id": "_A8whC_ISXll",
        "colab_type": "code",
        "colab": {}
      },
      "source": [
        "x = 0\n",
        "y = 0\n",
        "if x == y:\n",
        "  print(\"x and y are equal!\")\n",
        "elif x > y:\n",
        "  print(\"x is greater than y!\")\n",
        "elif x < y: \n",
        "  print(\"x is less than y!\")\n",
        "\n",
        "\n",
        "# What are some other conditions?"
      ],
      "execution_count": null,
      "outputs": []
    },
    {
      "cell_type": "markdown",
      "metadata": {
        "id": "Xh9IBJr4P017",
        "colab_type": "text"
      },
      "source": [
        "# Loops (For and While Loops)\n",
        "\n",
        "In python...\n",
        "- for loops are often used to iterate through a sequence\n",
        "- while loops are used to repeat a set of actions *while* a condition is true\n",
        "\n",
        "For loops introduce a python data type we haven't worked with yet... We have worked with integers, floats, booleans, and strings, but now we will introduce **lists**!\n",
        "- FYI: A string can be considered a list of characters which is why a for loop can be used to iterate through one"
      ]
    },
    {
      "cell_type": "code",
      "metadata": {
        "id": "OkWiSm-HftS5",
        "colab_type": "code",
        "colab": {}
      },
      "source": [
        "# Examples of Lists...\n",
        "groceryList = [\"apples\", \"bananas\", \"tofu\", \"milk\"]  # a list of\n",
        "numSequence = [1,2,3,6,10]                           # a list of ints\n",
        "listOfVotes = [True, False, True]                    # a list of booleans\n",
        "stringSeq   = \"This is a list, too\"                  # a list of characters\n",
        "listOfAnything = [1, True, \"hi\"]"
      ],
      "execution_count": null,
      "outputs": []
    },
    {
      "cell_type": "code",
      "metadata": {
        "id": "oNf09hI5T1yv",
        "colab_type": "code",
        "colab": {}
      },
      "source": [
        "# I want to know... is the letter 'a' in a given word?\n",
        "\n",
        "def checkForLetter(target,word):\n",
        "  for letter in word:\n",
        "    if target == letter:\n",
        "      return True\n",
        "  return False\n",
        "\n",
        "result = checkForLetter('a', '')\n",
        "if result == True:\n",
        "  print(\"We found 'a'!\")\n",
        "else:\n",
        "  print(\"There is no 'a' here :(\") \n",
        "\n",
        "# Can this all be wrapped in one function?"
      ],
      "execution_count": null,
      "outputs": []
    },
    {
      "cell_type": "code",
      "metadata": {
        "id": "851lYSGjXR6O",
        "colab_type": "code",
        "colab": {
          "base_uri": "https://localhost:8080/",
          "height": 35
        },
        "outputId": "0662d5f9-8e52-4bb5-c652-95682209ce24"
      },
      "source": [
        "# I want to know... if a given word has double letters in it\n",
        "\n",
        "def checkForDoubleLetter(word):\n",
        "  prevLetter = ''\n",
        "  for currentLetter in word:\n",
        "    if prevLetter == currentLetter:\n",
        "      return True\n",
        "    else:                                           # if prevLetter =/= letter: \n",
        "      prevLetter = currentLetter\n",
        "  return False\n",
        "\n",
        "result = checkForDoubleLetter('hello')\n",
        "print(result)"
      ],
      "execution_count": 31,
      "outputs": [
        {
          "output_type": "stream",
          "text": [
            "True\n"
          ],
          "name": "stdout"
        }
      ]
    },
    {
      "cell_type": "code",
      "metadata": {
        "id": "JvT1qi3NMYIm",
        "colab_type": "code",
        "colab": {
          "base_uri": "https://localhost:8080/",
          "height": 195
        },
        "outputId": "795d15d6-83ae-4e7b-84cf-5a75adb6dce0"
      },
      "source": [
        "# I want to perform an action a given number of times\n",
        "\n",
        "for i in range(10):\n",
        "  print(\"Hi\")\n"
      ],
      "execution_count": 32,
      "outputs": [
        {
          "output_type": "stream",
          "text": [
            "Hi\n",
            "Hi\n",
            "Hi\n",
            "Hi\n",
            "Hi\n",
            "Hi\n",
            "Hi\n",
            "Hi\n",
            "Hi\n",
            "Hi\n"
          ],
          "name": "stdout"
        }
      ]
    },
    {
      "cell_type": "markdown",
      "metadata": {
        "id": "4n88po4m1x6P",
        "colab_type": "text"
      },
      "source": [
        "While loops run continuosly until a condition has been met or a condition is no longer met - they are like an if-statement and a for loop combined!"
      ]
    },
    {
      "cell_type": "code",
      "metadata": {
        "id": "vp3gqsiM2AP7",
        "colab_type": "code",
        "colab": {
          "base_uri": "https://localhost:8080/",
          "height": 195
        },
        "outputId": "f9b487df-6500-4256-efe0-f0db74bc14bb"
      },
      "source": [
        "# I want to countdown until we reach zero\n",
        "i = 10\n",
        "while i < 10:\n",
        "  print(i)\n",
        "  i = i - 1\n"
      ],
      "execution_count": 35,
      "outputs": [
        {
          "output_type": "stream",
          "text": [
            "10\n",
            "9\n",
            "8\n",
            "7\n",
            "6\n",
            "5\n",
            "4\n",
            "3\n",
            "2\n",
            "1\n"
          ],
          "name": "stdout"
        }
      ]
    },
    {
      "cell_type": "markdown",
      "metadata": {
        "id": "BBvtiUAd2guO",
        "colab_type": "text"
      },
      "source": [
        "# Micro:bit Intro!\n",
        "\n",
        "This week we are going to double up a bit; while we learn loops and conditionals, we will also be diving into the micro:bit!\n",
        "\n",
        "[Learn about the micro:bit here!](https://support.microbit.org/support/solutions/articles/19000013983-what-is-a-micro-bit-)\n"
      ]
    }
  ]
}