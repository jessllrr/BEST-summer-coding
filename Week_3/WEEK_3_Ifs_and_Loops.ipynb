{
  "nbformat": 4,
  "nbformat_minor": 0,
  "metadata": {
    "colab": {
      "name": "WEEK 3: Ifs and Loops.ipynb",
      "provenance": [],
      "authorship_tag": "ABX9TyOdSBPXAD2dJrjGCEDM96+W",
      "include_colab_link": true
    },
    "kernelspec": {
      "name": "python3",
      "display_name": "Python 3"
    }
  },
  "cells": [
    {
      "cell_type": "markdown",
      "metadata": {
        "id": "view-in-github",
        "colab_type": "text"
      },
      "source": [
        "<a href=\"https://colab.research.google.com/github/jessllrr/BEST-summer-coding/blob/master/Week_3/WEEK_3_Ifs_and_Loops.ipynb\" target=\"_parent\"><img src=\"https://colab.research.google.com/assets/colab-badge.svg\" alt=\"Open In Colab\"/></a>"
      ]
    },
    {
      "cell_type": "markdown",
      "metadata": {
        "id": "aUwsQG9Dcynx",
        "colab_type": "text"
      },
      "source": [
        "#Control Flow (If... Elif... Else)\n",
        "* [If... Else Explained (w/ Diagrams)](https://www.geeksforgeeks.org/python-if-else/)\n",
        "* [If... Else Explained](https://www.w3schools.com/python/python_conditions.asp)\n",
        "* [Think Python: Section 5.4-5.7 (Conditional Execution)](http://greenteapress.com/thinkpython/thinkpython.pdf)\n",
        "\n",
        "\n"
      ]
    },
    {
      "cell_type": "markdown",
      "metadata": {
        "id": "K31e5xvcdnMe",
        "colab_type": "text"
      },
      "source": [
        "# Loops (For Loops and While Loops)\n",
        "Sometimes we need a program to perform a task many, many times. Computers can repeat a task as many times as needed without error. This is what for loops and while loops are for!\n",
        "\n",
        "*Please gloss over the following!*\n",
        "\n",
        "* [Think Python: Section 7.3-7.4 (While Loops)](http://greenteapress.com/thinkpython/thinkpython.pdf) \n",
        "* [For Loops](https://www.w3schools.com/python/python_for_loops.asp)\n",
        "* [For Loops and etc...](https://www.learnpython.org/en/Loops)\n",
        "\n",
        "# Problems\n",
        "\n",
        "1. **Write a function** that prints the contents of a list. HINT: you can pass a list as a parameter to a function - example shown below.\n",
        "\n",
        "2. **Write a function** which will tell you if a given item is in a list. For example, say I'm given a grocery list and I want to know if I added tomatoes to the list. The function would search the list and tell me if tomatoes is in the list already\n",
        "\n",
        "3. Without using len(), **write a function** which calculates the length of a given string.\n",
        "\n",
        "4. **Write a function** that takes two integers representing a month and day and prints the Day, Month(as a month, not an integer), and Season. Alternatively, write a function which takes two integers representing a month and day and prints your Astrological Sign. \n",
        "\n",
        "5. **Write a function** that takes a list of integers as a parameter and prints out the mean (average).\n",
        "\n",
        "6. **Write a function** which prints out 1 one, 2 twos, 3 threes, 4 fours, and so on until a given number. \n",
        "\n",
        "7. You can collect user input using the built-in function input(). Using input(), write a miniquiz which prompts the user simple questions and tells the user if they replied correctly or not. Test Problem Seven script to see how input() works, try running it with line 3 commented and without line 3 commented:\n"
      ]
    },
    {
      "cell_type": "code",
      "metadata": {
        "id": "JnCObnFlio79",
        "colab_type": "code",
        "colab": {}
      },
      "source": [
        "# ------------- FOR PROBLEM ONE, example of passing a list to a function\n",
        "def print_list(given_list):\n",
        "  for item in given_list:\n",
        "    print(item)\n",
        "\n",
        "print_list([\"Hi\", 3, True])\n",
        "print()\n",
        "example_list = [0, 2, 4, \"pie\"]\n",
        "print_list(example_list)"
      ],
      "execution_count": null,
      "outputs": []
    },
    {
      "cell_type": "code",
      "metadata": {
        "id": "PhftMtLxjNlK",
        "colab_type": "code",
        "colab": {}
      },
      "source": [
        "# ------------- FOR PROBLEM TWO"
      ],
      "execution_count": null,
      "outputs": []
    },
    {
      "cell_type": "code",
      "metadata": {
        "id": "smZYBTfwjRmu",
        "colab_type": "code",
        "colab": {}
      },
      "source": [
        "# ------------- FOR PROBLEM THREE"
      ],
      "execution_count": null,
      "outputs": []
    },
    {
      "cell_type": "code",
      "metadata": {
        "id": "l7VQzSF7jTgg",
        "colab_type": "code",
        "colab": {}
      },
      "source": [
        "# ------------- FOR PROBLEM FOUR"
      ],
      "execution_count": null,
      "outputs": []
    },
    {
      "cell_type": "code",
      "metadata": {
        "id": "n59HkT_QjVWz",
        "colab_type": "code",
        "colab": {}
      },
      "source": [
        "# ------------- FOR PROBLEM FIVE"
      ],
      "execution_count": null,
      "outputs": []
    },
    {
      "cell_type": "code",
      "metadata": {
        "id": "LX47F7zujWsA",
        "colab_type": "code",
        "colab": {}
      },
      "source": [
        "# ------------- FOR PROBLEM SIX"
      ],
      "execution_count": null,
      "outputs": []
    },
    {
      "cell_type": "code",
      "metadata": {
        "id": "DgR20z6Af1hH",
        "colab_type": "code",
        "colab": {}
      },
      "source": [
        "# ------------- FOR PROBLEM SEVEN, example of collecting user input\n",
        "userInput = input(\"Type something: \")\n",
        "print(\"This is what you typed:\", userInput)"
      ],
      "execution_count": null,
      "outputs": []
    }
  ]
}